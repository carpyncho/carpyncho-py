{
 "cells": [
  {
   "cell_type": "markdown",
   "metadata": {},
   "source": [
    "# Light-Curves catalogs tutorial (`lc`)\n",
    "\n",
    "This notebook give some insights about the data stored in all the `lc` types catalogs."
   ]
  },
  {
   "cell_type": "code",
   "execution_count": 1,
   "metadata": {},
   "outputs": [],
   "source": [
    "# import the module and instance the client\n",
    "import carpyncho \n",
    "client = carpyncho.Carpyncho()"
   ]
  },
  {
   "cell_type": "code",
   "execution_count": 2,
   "metadata": {},
   "outputs": [
    {
     "data": {
      "text/html": [
       "<div>\n",
       "<style scoped>\n",
       "    .dataframe tbody tr th:only-of-type {\n",
       "        vertical-align: middle;\n",
       "    }\n",
       "\n",
       "    .dataframe tbody tr th {\n",
       "        vertical-align: top;\n",
       "    }\n",
       "\n",
       "    .dataframe thead th {\n",
       "        text-align: right;\n",
       "    }\n",
       "</style>\n",
       "<table border=\"1\" class=\"dataframe\">\n",
       "  <thead>\n",
       "    <tr style=\"text-align: right;\">\n",
       "      <th></th>\n",
       "      <th>bm_src_id</th>\n",
       "      <th>pwp_id</th>\n",
       "      <th>pwp_stack_src_id</th>\n",
       "      <th>pwp_stack_src_hjd</th>\n",
       "      <th>pwp_stack_src_mag3</th>\n",
       "      <th>pwp_stack_src_mag_err3</th>\n",
       "    </tr>\n",
       "  </thead>\n",
       "  <tbody>\n",
       "    <tr>\n",
       "      <th>4972570</th>\n",
       "      <td>32140000315166</td>\n",
       "      <td>4687</td>\n",
       "      <td>3000468700233692</td>\n",
       "      <td>56831.181938</td>\n",
       "      <td>16.238</td>\n",
       "      <td>0.091</td>\n",
       "    </tr>\n",
       "    <tr>\n",
       "      <th>3578347</th>\n",
       "      <td>32140000347620</td>\n",
       "      <td>4672</td>\n",
       "      <td>3000467200298695</td>\n",
       "      <td>56744.307884</td>\n",
       "      <td>17.478</td>\n",
       "      <td>0.217</td>\n",
       "    </tr>\n",
       "    <tr>\n",
       "      <th>11315958</th>\n",
       "      <td>32140000419262</td>\n",
       "      <td>4709</td>\n",
       "      <td>3000470900413356</td>\n",
       "      <td>56816.209997</td>\n",
       "      <td>17.405</td>\n",
       "      <td>0.170</td>\n",
       "    </tr>\n",
       "  </tbody>\n",
       "</table>\n",
       "</div>"
      ],
      "text/plain": [
       "               bm_src_id  pwp_id  pwp_stack_src_id  pwp_stack_src_hjd  \\\n",
       "4972570   32140000315166    4687  3000468700233692       56831.181938   \n",
       "3578347   32140000347620    4672  3000467200298695       56744.307884   \n",
       "11315958  32140000419262    4709  3000470900413356       56816.209997   \n",
       "\n",
       "          pwp_stack_src_mag3  pwp_stack_src_mag_err3  \n",
       "4972570               16.238                   0.091  \n",
       "3578347               17.478                   0.217  \n",
       "11315958              17.405                   0.170  "
      ]
     },
     "execution_count": 2,
     "metadata": {},
     "output_type": "execute_result"
    }
   ],
   "source": [
    "df = client.get_catalog(\"b214\", \"lc\")\n",
    "df.sample(3)"
   ]
  },
  {
   "cell_type": "markdown",
   "metadata": {},
   "source": [
    "The columns of this catalog are"
   ]
  },
  {
   "cell_type": "code",
   "execution_count": 3,
   "metadata": {},
   "outputs": [
    {
     "name": "stdout",
     "output_type": "stream",
     "text": [
      "['bm_src_id', 'pwp_id', 'pwp_stack_src_id', 'pwp_stack_src_hjd', 'pwp_stack_src_mag3', 'pwp_stack_src_mag_err3']\n"
     ]
    }
   ],
   "source": [
    "print(list(df.columns))"
   ]
  },
  {
   "cell_type": "markdown",
   "metadata": {},
   "source": [
    "Where\n",
    "\n",
    "- **bm_src_id** (Band-Merge Source ID): This is the unique identifier of every light curve. The records with the same *bm_src_id* are part of the same lc (This id is part of Carpyncho internal and is unique for every source).\n",
    "- **pwp_id** (Pawprint Stack ID):  The id of the pawprint where this point of the light curve is located (This id is part of Carpyncho internal database).\n",
    "- **pwp_stack_src_id** (Pawprint Stack Source ID):  The id of this particular observation inside the pawprint where this point (This id are part of Carpyncho internal database) \n",
    "- **pwp_stack_src_hjd** (Pawprint Stack Source HJD): The Heliocentric-Julian-Date of this particular observation.\n",
    "- **pwp_stack_src_mag3** (Pawprint Stack Source Magnitude of the 3rd Aperture): The magnitude (of the 3rd aperture) of this particular observation.\n",
    "- **pwp_stack_src_mag_err3** (Pawprint Stack Source Magnitude Error of the 3rd Aperture): The magnitude error (of the 3rd aperture) of this particular observation.\n",
    "\n",
    "## Retrieve a single light-curve\n",
    "\n",
    "Lets, for example, retrieve the LC with the ID `32140000349109` and sort by time"
   ]
  },
  {
   "cell_type": "code",
   "execution_count": 4,
   "metadata": {},
   "outputs": [
    {
     "data": {
      "text/html": [
       "<div>\n",
       "<style scoped>\n",
       "    .dataframe tbody tr th:only-of-type {\n",
       "        vertical-align: middle;\n",
       "    }\n",
       "\n",
       "    .dataframe tbody tr th {\n",
       "        vertical-align: top;\n",
       "    }\n",
       "\n",
       "    .dataframe thead th {\n",
       "        text-align: right;\n",
       "    }\n",
       "</style>\n",
       "<table border=\"1\" class=\"dataframe\">\n",
       "  <thead>\n",
       "    <tr style=\"text-align: right;\">\n",
       "      <th></th>\n",
       "      <th>bm_src_id</th>\n",
       "      <th>pwp_id</th>\n",
       "      <th>pwp_stack_src_id</th>\n",
       "      <th>pwp_stack_src_hjd</th>\n",
       "      <th>pwp_stack_src_mag3</th>\n",
       "      <th>pwp_stack_src_mag_err3</th>\n",
       "    </tr>\n",
       "  </thead>\n",
       "  <tbody>\n",
       "    <tr>\n",
       "      <th>9824315</th>\n",
       "      <td>32140000349109</td>\n",
       "      <td>4705</td>\n",
       "      <td>3000470500316153</td>\n",
       "      <td>55301.355623</td>\n",
       "      <td>15.736</td>\n",
       "      <td>0.045</td>\n",
       "    </tr>\n",
       "    <tr>\n",
       "      <th>15823573</th>\n",
       "      <td>32140000349109</td>\n",
       "      <td>4713</td>\n",
       "      <td>3000471300371137</td>\n",
       "      <td>55404.204420</td>\n",
       "      <td>15.705</td>\n",
       "      <td>0.040</td>\n",
       "    </tr>\n",
       "    <tr>\n",
       "      <th>17889825</th>\n",
       "      <td>32140000349109</td>\n",
       "      <td>4719</td>\n",
       "      <td>3000471900344310</td>\n",
       "      <td>55435.200224</td>\n",
       "      <td>15.734</td>\n",
       "      <td>0.042</td>\n",
       "    </tr>\n",
       "    <tr>\n",
       "      <th>15383198</th>\n",
       "      <td>32140000349109</td>\n",
       "      <td>4711</td>\n",
       "      <td>3000471100264253</td>\n",
       "      <td>55497.035605</td>\n",
       "      <td>15.868</td>\n",
       "      <td>0.061</td>\n",
       "    </tr>\n",
       "    <tr>\n",
       "      <th>7230797</th>\n",
       "      <td>32140000349109</td>\n",
       "      <td>4694</td>\n",
       "      <td>3000469400252478</td>\n",
       "      <td>55806.201062</td>\n",
       "      <td>15.795</td>\n",
       "      <td>0.060</td>\n",
       "    </tr>\n",
       "    <tr>\n",
       "      <th>...</th>\n",
       "      <td>...</td>\n",
       "      <td>...</td>\n",
       "      <td>...</td>\n",
       "      <td>...</td>\n",
       "      <td>...</td>\n",
       "      <td>...</td>\n",
       "    </tr>\n",
       "    <tr>\n",
       "      <th>17498325</th>\n",
       "      <td>32140000349109</td>\n",
       "      <td>4718</td>\n",
       "      <td>3000471800253351</td>\n",
       "      <td>57248.183650</td>\n",
       "      <td>15.750</td>\n",
       "      <td>0.050</td>\n",
       "    </tr>\n",
       "    <tr>\n",
       "      <th>20689532</th>\n",
       "      <td>32140000349109</td>\n",
       "      <td>4728</td>\n",
       "      <td>3000472800102886</td>\n",
       "      <td>57251.230468</td>\n",
       "      <td>15.828</td>\n",
       "      <td>0.099</td>\n",
       "    </tr>\n",
       "    <tr>\n",
       "      <th>7873271</th>\n",
       "      <td>32140000349109</td>\n",
       "      <td>4697</td>\n",
       "      <td>3000469700250665</td>\n",
       "      <td>57252.177815</td>\n",
       "      <td>15.727</td>\n",
       "      <td>0.050</td>\n",
       "    </tr>\n",
       "    <tr>\n",
       "      <th>12365892</th>\n",
       "      <td>32140000349109</td>\n",
       "      <td>4677</td>\n",
       "      <td>3000467700294240</td>\n",
       "      <td>57265.086562</td>\n",
       "      <td>15.773</td>\n",
       "      <td>0.055</td>\n",
       "    </tr>\n",
       "    <tr>\n",
       "      <th>15027768</th>\n",
       "      <td>32140000349109</td>\n",
       "      <td>4686</td>\n",
       "      <td>3000468600357522</td>\n",
       "      <td>57282.060899</td>\n",
       "      <td>15.748</td>\n",
       "      <td>0.045</td>\n",
       "    </tr>\n",
       "  </tbody>\n",
       "</table>\n",
       "<p>67 rows × 6 columns</p>\n",
       "</div>"
      ],
      "text/plain": [
       "               bm_src_id  pwp_id  pwp_stack_src_id  pwp_stack_src_hjd  \\\n",
       "9824315   32140000349109    4705  3000470500316153       55301.355623   \n",
       "15823573  32140000349109    4713  3000471300371137       55404.204420   \n",
       "17889825  32140000349109    4719  3000471900344310       55435.200224   \n",
       "15383198  32140000349109    4711  3000471100264253       55497.035605   \n",
       "7230797   32140000349109    4694  3000469400252478       55806.201062   \n",
       "...                  ...     ...               ...                ...   \n",
       "17498325  32140000349109    4718  3000471800253351       57248.183650   \n",
       "20689532  32140000349109    4728  3000472800102886       57251.230468   \n",
       "7873271   32140000349109    4697  3000469700250665       57252.177815   \n",
       "12365892  32140000349109    4677  3000467700294240       57265.086562   \n",
       "15027768  32140000349109    4686  3000468600357522       57282.060899   \n",
       "\n",
       "          pwp_stack_src_mag3  pwp_stack_src_mag_err3  \n",
       "9824315               15.736                   0.045  \n",
       "15823573              15.705                   0.040  \n",
       "17889825              15.734                   0.042  \n",
       "15383198              15.868                   0.061  \n",
       "7230797               15.795                   0.060  \n",
       "...                      ...                     ...  \n",
       "17498325              15.750                   0.050  \n",
       "20689532              15.828                   0.099  \n",
       "7873271               15.727                   0.050  \n",
       "12365892              15.773                   0.055  \n",
       "15027768              15.748                   0.045  \n",
       "\n",
       "[67 rows x 6 columns]"
      ]
     },
     "execution_count": 4,
     "metadata": {},
     "output_type": "execute_result"
    }
   ],
   "source": [
    "lc = df[df.bm_src_id == 32140000349109]\n",
    "lc = lc.sort_values(\"pwp_stack_src_hjd\")\n",
    "lc"
   ]
  },
  {
   "cell_type": "markdown",
   "metadata": {},
   "source": [
    "Great, 67 epochs. Let's check the average and dispersion of the magnitudes and the error"
   ]
  },
  {
   "cell_type": "code",
   "execution_count": 5,
   "metadata": {},
   "outputs": [
    {
     "data": {
      "text/plain": [
       "pwp_stack_src_mag3        15.759224\n",
       "pwp_stack_src_mag_err3     0.051299\n",
       "dtype: float64"
      ]
     },
     "execution_count": 5,
     "metadata": {},
     "output_type": "execute_result"
    }
   ],
   "source": [
    "lc[['pwp_stack_src_mag3', 'pwp_stack_src_mag_err3']].mean()"
   ]
  },
  {
   "cell_type": "code",
   "execution_count": 6,
   "metadata": {},
   "outputs": [
    {
     "data": {
      "text/plain": [
       "pwp_stack_src_mag3        0.044732\n",
       "pwp_stack_src_mag_err3    0.009130\n",
       "dtype: float64"
      ]
     },
     "execution_count": 6,
     "metadata": {},
     "output_type": "execute_result"
    }
   ],
   "source": [
    "lc[['pwp_stack_src_mag3', 'pwp_stack_src_mag_err3']].std()"
   ]
  },
  {
   "cell_type": "markdown",
   "metadata": {},
   "source": [
    "The source is stable, now check the observation range"
   ]
  },
  {
   "cell_type": "code",
   "execution_count": 7,
   "metadata": {},
   "outputs": [
    {
     "name": "stdout",
     "output_type": "stream",
     "text": [
      "5.426589796388058 Years\n"
     ]
    }
   ],
   "source": [
    "print((lc.pwp_stack_src_hjd.max() - lc.pwp_stack_src_hjd.min()) / 365, \"Years\")"
   ]
  },
  {
   "cell_type": "markdown",
   "metadata": {},
   "source": [
    "Finally we can plot the entire LC"
   ]
  },
  {
   "cell_type": "code",
   "execution_count": 8,
   "metadata": {},
   "outputs": [],
   "source": [
    "import matplotlib.pyplot as plt"
   ]
  },
  {
   "cell_type": "code",
   "execution_count": 9,
   "metadata": {},
   "outputs": [
    {
     "data": {
      "image/png": "[encoded data removed]",
      "text/plain": [
       "<Figure size 864x288 with 1 Axes>"
      ]
     },
     "metadata": {
      "needs_background": "light"
     },
     "output_type": "display_data"
    }
   ],
   "source": [
    "fig, ax = plt.subplots(figsize=(12, 4))\n",
    "\n",
    "ax.errorbar(\n",
    "    lc.pwp_stack_src_hjd, \n",
    "    lc.pwp_stack_src_mag3, \n",
    "    lc.pwp_stack_src_mag_err3, \n",
    "    ls=\"\", marker=\"o\", ecolor=\"red\")\n",
    "\n",
    "ax.set_title(f\"Light Curve of source 32140000349109\")\n",
    "ax.set_ylabel(\"Magnitude\")\n",
    "ax.set_xlabel(\"HJD\")\n",
    "\n",
    "ax.invert_yaxis()\n",
    "fig.tight_layout()"
   ]
  },
  {
   "cell_type": "code",
   "execution_count": 10,
   "metadata": {},
   "outputs": [
    {
     "data": {
      "text/plain": [
       "datetime.datetime(2020, 4, 24, 1, 41, 17, 21921)"
      ]
     },
     "execution_count": 10,
     "metadata": {},
     "output_type": "execute_result"
    }
   ],
   "source": [
    "import datetime as dt\n",
    "dt.datetime.now()"
   ]
  },
  {
   "cell_type": "code",
   "execution_count": null,
   "metadata": {},
   "outputs": [],
   "source": []
  }
 ],
 "metadata": {
  "kernelspec": {
   "display_name": "Python 3",
   "language": "python",
   "name": "python3"
  },
  "language_info": {
   "codemirror_mode": {
    "name": "ipython",
    "version": 3
   },
   "file_extension": ".py",
   "mimetype": "text/x-python",
   "name": "python",
   "nbconvert_exporter": "python",
   "pygments_lexer": "ipython3",
   "version": "3.8.0"
  }
 },
 "nbformat": 4,
 "nbformat_minor": 4
}
