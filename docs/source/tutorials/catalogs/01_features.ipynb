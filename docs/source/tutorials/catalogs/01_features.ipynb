{
 "cells": [
  {
   "cell_type": "markdown",
   "metadata": {},
   "source": [
    "# Features catalogs tutorial (`features`)\n",
    "\n",
    "This notebook give some insights about the data stored in all the `features` types catalogs."
   ]
  },
  {
   "cell_type": "code",
   "execution_count": 1,
   "metadata": {},
   "outputs": [],
   "source": [
    "# import the module and instance the client\n",
    "import carpyncho \n",
    "client = carpyncho.Carpyncho()"
   ]
  },
  {
   "cell_type": "markdown",
   "metadata": {},
   "source": [
    "Now we download one features catalog"
   ]
  },
  {
   "cell_type": "code",
   "execution_count": 2,
   "metadata": {},
   "outputs": [
    {
     "name": "stderr",
     "output_type": "stream",
     "text": [
      "b214-features: 159MB [01:06, 2.40MB/s]                            \n"
     ]
    },
    {
     "data": {
      "text/html": [
       "<div>\n",
       "<style scoped>\n",
       "    .dataframe tbody tr th:only-of-type {\n",
       "        vertical-align: middle;\n",
       "    }\n",
       "\n",
       "    .dataframe tbody tr th {\n",
       "        vertical-align: top;\n",
       "    }\n",
       "\n",
       "    .dataframe thead th {\n",
       "        text-align: right;\n",
       "    }\n",
       "</style>\n",
       "<table border=\"1\" class=\"dataframe\">\n",
       "  <thead>\n",
       "    <tr style=\"text-align: right;\">\n",
       "      <th></th>\n",
       "      <th>id</th>\n",
       "      <th>cnt</th>\n",
       "      <th>ra_k</th>\n",
       "      <th>dec_k</th>\n",
       "      <th>vs_type</th>\n",
       "      <th>vs_catalog</th>\n",
       "      <th>Amplitude</th>\n",
       "      <th>Autocor_length</th>\n",
       "      <th>Beyond1Std</th>\n",
       "      <th>Con</th>\n",
       "      <th>...</th>\n",
       "      <th>c89_jk_color</th>\n",
       "      <th>c89_m2</th>\n",
       "      <th>c89_m4</th>\n",
       "      <th>n09_c3</th>\n",
       "      <th>n09_hk_color</th>\n",
       "      <th>n09_jh_color</th>\n",
       "      <th>n09_jk_color</th>\n",
       "      <th>n09_m2</th>\n",
       "      <th>n09_m4</th>\n",
       "      <th>ppmb</th>\n",
       "    </tr>\n",
       "  </thead>\n",
       "  <tbody>\n",
       "    <tr>\n",
       "      <th>246230</th>\n",
       "      <td>32140000304888</td>\n",
       "      <td>66</td>\n",
       "      <td>281.886621</td>\n",
       "      <td>-24.814519</td>\n",
       "      <td></td>\n",
       "      <td></td>\n",
       "      <td>0.18675</td>\n",
       "      <td>1.0</td>\n",
       "      <td>0.287879</td>\n",
       "      <td>0.0</td>\n",
       "      <td>...</td>\n",
       "      <td>0.790576</td>\n",
       "      <td>15.292760</td>\n",
       "      <td>15.256852</td>\n",
       "      <td>0.274868</td>\n",
       "      <td>0.188890</td>\n",
       "      <td>0.602440</td>\n",
       "      <td>0.791330</td>\n",
       "      <td>15.479110</td>\n",
       "      <td>15.486869</td>\n",
       "      <td>2.341868</td>\n",
       "    </tr>\n",
       "    <tr>\n",
       "      <th>375156</th>\n",
       "      <td>32140000459091</td>\n",
       "      <td>44</td>\n",
       "      <td>281.626075</td>\n",
       "      <td>-24.136333</td>\n",
       "      <td></td>\n",
       "      <td></td>\n",
       "      <td>0.27050</td>\n",
       "      <td>1.0</td>\n",
       "      <td>0.431818</td>\n",
       "      <td>0.0</td>\n",
       "      <td>...</td>\n",
       "      <td>0.475020</td>\n",
       "      <td>16.945470</td>\n",
       "      <td>16.877186</td>\n",
       "      <td>0.682651</td>\n",
       "      <td>-0.076031</td>\n",
       "      <td>0.551810</td>\n",
       "      <td>0.475779</td>\n",
       "      <td>17.051519</td>\n",
       "      <td>17.072001</td>\n",
       "      <td>4.627671</td>\n",
       "    </tr>\n",
       "    <tr>\n",
       "      <th>264628</th>\n",
       "      <td>32140000328959</td>\n",
       "      <td>39</td>\n",
       "      <td>281.817479</td>\n",
       "      <td>-24.701575</td>\n",
       "      <td></td>\n",
       "      <td></td>\n",
       "      <td>0.28200</td>\n",
       "      <td>1.0</td>\n",
       "      <td>0.333333</td>\n",
       "      <td>0.0</td>\n",
       "      <td>...</td>\n",
       "      <td>0.498984</td>\n",
       "      <td>16.798042</td>\n",
       "      <td>16.762198</td>\n",
       "      <td>0.305437</td>\n",
       "      <td>0.071062</td>\n",
       "      <td>0.428715</td>\n",
       "      <td>0.499777</td>\n",
       "      <td>16.923741</td>\n",
       "      <td>16.932339</td>\n",
       "      <td>0.928964</td>\n",
       "    </tr>\n",
       "  </tbody>\n",
       "</table>\n",
       "<p>3 rows × 73 columns</p>\n",
       "</div>"
      ],
      "text/plain": [
       "                    id  cnt        ra_k      dec_k vs_type vs_catalog  \\\n",
       "246230  32140000304888   66  281.886621 -24.814519                      \n",
       "375156  32140000459091   44  281.626075 -24.136333                      \n",
       "264628  32140000328959   39  281.817479 -24.701575                      \n",
       "\n",
       "        Amplitude  Autocor_length  Beyond1Std  Con  ...  c89_jk_color  \\\n",
       "246230    0.18675             1.0    0.287879  0.0  ...      0.790576   \n",
       "375156    0.27050             1.0    0.431818  0.0  ...      0.475020   \n",
       "264628    0.28200             1.0    0.333333  0.0  ...      0.498984   \n",
       "\n",
       "           c89_m2     c89_m4    n09_c3  n09_hk_color  n09_jh_color  \\\n",
       "246230  15.292760  15.256852  0.274868      0.188890      0.602440   \n",
       "375156  16.945470  16.877186  0.682651     -0.076031      0.551810   \n",
       "264628  16.798042  16.762198  0.305437      0.071062      0.428715   \n",
       "\n",
       "        n09_jk_color     n09_m2     n09_m4      ppmb  \n",
       "246230      0.791330  15.479110  15.486869  2.341868  \n",
       "375156      0.475779  17.051519  17.072001  4.627671  \n",
       "264628      0.499777  16.923741  16.932339  0.928964  \n",
       "\n",
       "[3 rows x 73 columns]"
      ]
     },
     "execution_count": 2,
     "metadata": {},
     "output_type": "execute_result"
    }
   ],
   "source": [
    "df = client.get_catalog(\"b214\", \"features\")\n",
    "df.sample(3)"
   ]
  },
  {
   "cell_type": "markdown",
   "metadata": {},
   "source": [
    "The columns of this catalog are"
   ]
  },
  {
   "cell_type": "code",
   "execution_count": 3,
   "metadata": {},
   "outputs": [
    {
     "name": "stdout",
     "output_type": "stream",
     "text": [
      "['id', 'cnt', 'ra_k', 'dec_k', 'vs_type', 'vs_catalog', 'Amplitude', 'Autocor_length', 'Beyond1Std', 'Con', 'Eta_e', 'FluxPercentileRatioMid20', 'FluxPercentileRatioMid35', 'FluxPercentileRatioMid50', 'FluxPercentileRatioMid65', 'FluxPercentileRatioMid80', 'Freq1_harmonics_amplitude_0', 'Freq1_harmonics_amplitude_1', 'Freq1_harmonics_amplitude_2', 'Freq1_harmonics_amplitude_3', 'Freq1_harmonics_rel_phase_0', 'Freq1_harmonics_rel_phase_1', 'Freq1_harmonics_rel_phase_2', 'Freq1_harmonics_rel_phase_3', 'Freq2_harmonics_amplitude_0', 'Freq2_harmonics_amplitude_1', 'Freq2_harmonics_amplitude_2', 'Freq2_harmonics_amplitude_3', 'Freq2_harmonics_rel_phase_0', 'Freq2_harmonics_rel_phase_1', 'Freq2_harmonics_rel_phase_2', 'Freq2_harmonics_rel_phase_3', 'Freq3_harmonics_amplitude_0', 'Freq3_harmonics_amplitude_1', 'Freq3_harmonics_amplitude_2', 'Freq3_harmonics_amplitude_3', 'Freq3_harmonics_rel_phase_0', 'Freq3_harmonics_rel_phase_1', 'Freq3_harmonics_rel_phase_2', 'Freq3_harmonics_rel_phase_3', 'Gskew', 'LinearTrend', 'MaxSlope', 'Mean', 'Meanvariance', 'MedianAbsDev', 'MedianBRP', 'PairSlopeTrend', 'PercentAmplitude', 'PercentDifferenceFluxPercentile', 'PeriodLS', 'Period_fit', 'Psi_CS', 'Psi_eta', 'Q31', 'Rcs', 'Skew', 'SmallKurtosis', 'Std', 'StetsonK', 'c89_c3', 'c89_hk_color', 'c89_jh_color', 'c89_jk_color', 'c89_m2', 'c89_m4', 'n09_c3', 'n09_hk_color', 'n09_jh_color', 'n09_jk_color', 'n09_m2', 'n09_m4', 'ppmb']\n"
     ]
    }
   ],
   "source": [
    "print(list(df.columns))"
   ]
  },
  {
   "cell_type": "markdown",
   "metadata": {},
   "source": [
    "Where\n",
    "\n",
    "- **id** (ID): This is the unique identifier of every light curve. If you want to access all the points of the lightcurve of a source wiht any *id*, you can search for the same value of a `bm_src_id`in the `lc` of the same tile of the features catalog.\n",
    "- **cnt** (Count): How many epochs has the lightcurve.\n",
    "- **ra_k**: Right Ascension in band $K_s$ of the source in the first epoch.\n",
    "- **dec_k**: Declination in band $K_s$ of the source in the first epoch.\n",
    "- **vs_type** (Variable Star Type): The type of the source if is  a variable star tagged with the OGLE-III, OGLE-IV and VIZIER catalogs; or empty if the source has no type.\n",
    "- **vs_catalog** (Variable Star Catalog): From which catalog the *vs_type* was extracted.\n",
    "\n",
    "All the other columns (Except the last 13) are the features itself And can be consulted here [https://feets.readthedocs.io/en/latest/tutorial.html#The-Features](https://feets.readthedocs.io/en/latest/tutorial.html#The-Features)\n",
    "\n",
    "Finally the reddening free features are:\n",
    "\n",
    "\n",
    "- **c89_c3**: $C3$ Pseudo-color using the cardelli-89 extinction\n",
    "    law.\n",
    "- **c89_ab_color**: Magnitude difference in the first epoch between the band $a$ and the\n",
    "    band $b$ using the Cardelli-89 extinction law. Where\n",
    "    $a$ and $b$ can be the bands $H$, $J$ and $K_s$.\n",
    "- **c89_m2** and **c89_m4**: $m2$ and $m4$ pseudo-magnitudes using the\n",
    "    Cardelli-89 extinction law.\n",
    "- **n09_c3**: $C3$ Pseudo-color using the Nishiyama-09 extinction law.\n",
    "- **n09_ab_color**: Magnitude difference in the first epoch between the band $a$ and the\n",
    "    band $b$ using the nishiyama-09 extinction law.\n",
    "    Where $a$ and $b$ can be the bands $H$, $J$ and $K_s$\n",
    "- **n09_m2** and **n09_m4**: $m2$ and $m4$ pseudo-magnitudes using the\n",
    "    nishiyama-09 extinction law.\n",
    "- **ppmb** (Pseudo-Phase Multi-Band): This index sets the first time in phase\n",
    "    with respect to the average time in all bands, using the period\n",
    "    calculated by *feets*.\n",
    "\n",
    "    $$PPMB = frac(\\frac{|mean(HJD_H, HJD_J, HJD_{K_s}) - T_0|}{P})$$\n",
    "\n",
    "    Where $HJD_H$, $HJD_J$ and $HJD_{K_s}$ are the time of observations\n",
    "    in the band $H$, $J$ and $K_s$; $T_0$ is the time of observation of\n",
    "    maximum magnitude in $K_s$ band; $mean$ calculate the mean of the\n",
    "    three times, $frac$ returns only the decimal part of the number, and\n",
    "    $P$ is the extracted period.\n",
    "    \n",
    "For more information about the extintion laws and pseudo colors/magnitudes:\n",
    "\n",
    "----\n",
    "\n",
    "**Cardelli-89 Extinction law:**\n",
    "\n",
    "> Cardelli, J. A., Clayton, G. C., & Mathis, J. S. (1989). The relationship between infrared, optical, and ultraviolet extinction. The Astrophysical Journal, 345, 245-256.\n",
    "\n",
    "**Nishiyama-09 Extinction law:**\n",
    "\n",
    "> Nishiyama, S., Tamura, M., Hatano, H., Kato, D., Tanabé, T., Sugitani, K., & Nagata, T. (2009). Interstellar extinction law toward the galactic center III: J, H, KS bands in the 2MASS and the MKO systems, and 3.6, 4.5, 5.8, 8.0 μm in the Spitzer/IRAC system. The Astrophysical Journal, 696(2), 1407.\n",
    "\n",
    "**Pseudo colors/magnitudes:**\n",
    "\n",
    "> Catelan, M., Minniti, D., Lucas, P. W., Alonso-Garcia, J., Angeloni, R., Beamin, J. C., ... & Dekany, I. (2011). The Vista Variables in the Via Lactea (VVV) ESO Public Survey: Current Status and First Results. arXiv preprint arXiv:1105.1119.\n",
    "\n",
    "Well lets play with the data of 3 Variable star"
   ]
  },
  {
   "cell_type": "code",
   "execution_count": 4,
   "metadata": {},
   "outputs": [
    {
     "data": {
      "text/html": [
       "<div>\n",
       "<style scoped>\n",
       "    .dataframe tbody tr th:only-of-type {\n",
       "        vertical-align: middle;\n",
       "    }\n",
       "\n",
       "    .dataframe tbody tr th {\n",
       "        vertical-align: top;\n",
       "    }\n",
       "\n",
       "    .dataframe thead th {\n",
       "        text-align: right;\n",
       "    }\n",
       "</style>\n",
       "<table border=\"1\" class=\"dataframe\">\n",
       "  <thead>\n",
       "    <tr style=\"text-align: right;\">\n",
       "      <th></th>\n",
       "      <th>id</th>\n",
       "      <th>cnt</th>\n",
       "      <th>ra_k</th>\n",
       "      <th>dec_k</th>\n",
       "      <th>vs_type</th>\n",
       "      <th>vs_catalog</th>\n",
       "      <th>Amplitude</th>\n",
       "      <th>Autocor_length</th>\n",
       "      <th>Beyond1Std</th>\n",
       "      <th>Con</th>\n",
       "      <th>...</th>\n",
       "      <th>c89_jk_color</th>\n",
       "      <th>c89_m2</th>\n",
       "      <th>c89_m4</th>\n",
       "      <th>n09_c3</th>\n",
       "      <th>n09_hk_color</th>\n",
       "      <th>n09_jh_color</th>\n",
       "      <th>n09_jk_color</th>\n",
       "      <th>n09_m2</th>\n",
       "      <th>n09_m4</th>\n",
       "      <th>ppmb</th>\n",
       "    </tr>\n",
       "  </thead>\n",
       "  <tbody>\n",
       "    <tr>\n",
       "      <th>4456</th>\n",
       "      <td>32140000002913</td>\n",
       "      <td>68</td>\n",
       "      <td>280.582129</td>\n",
       "      <td>-25.299033</td>\n",
       "      <td>RRLyr-RRab</td>\n",
       "      <td>vizier</td>\n",
       "      <td>0.12600</td>\n",
       "      <td>1.0</td>\n",
       "      <td>0.279412</td>\n",
       "      <td>0.0</td>\n",
       "      <td>...</td>\n",
       "      <td>0.162897</td>\n",
       "      <td>13.827993</td>\n",
       "      <td>13.819663</td>\n",
       "      <td>0.053522</td>\n",
       "      <td>0.040231</td>\n",
       "      <td>0.123061</td>\n",
       "      <td>0.163291</td>\n",
       "      <td>13.893530</td>\n",
       "      <td>13.895081</td>\n",
       "      <td>1.629816</td>\n",
       "    </tr>\n",
       "    <tr>\n",
       "      <th>21827</th>\n",
       "      <td>32140000030432</td>\n",
       "      <td>68</td>\n",
       "      <td>280.482488</td>\n",
       "      <td>-25.156328</td>\n",
       "      <td>RRLyr-RRab</td>\n",
       "      <td>vizier</td>\n",
       "      <td>0.17275</td>\n",
       "      <td>1.0</td>\n",
       "      <td>0.235294</td>\n",
       "      <td>0.0</td>\n",
       "      <td>...</td>\n",
       "      <td>0.221322</td>\n",
       "      <td>13.112390</td>\n",
       "      <td>13.104045</td>\n",
       "      <td>0.049464</td>\n",
       "      <td>0.062893</td>\n",
       "      <td>0.158674</td>\n",
       "      <td>0.221566</td>\n",
       "      <td>13.185733</td>\n",
       "      <td>13.187114</td>\n",
       "      <td>1.672651</td>\n",
       "    </tr>\n",
       "    <tr>\n",
       "      <th>21929</th>\n",
       "      <td>32140000030564</td>\n",
       "      <td>68</td>\n",
       "      <td>281.279492</td>\n",
       "      <td>-25.499744</td>\n",
       "      <td>RRLyr-RRab</td>\n",
       "      <td>vizier</td>\n",
       "      <td>0.18400</td>\n",
       "      <td>1.0</td>\n",
       "      <td>0.308824</td>\n",
       "      <td>0.0</td>\n",
       "      <td>...</td>\n",
       "      <td>0.314535</td>\n",
       "      <td>14.001622</td>\n",
       "      <td>13.984766</td>\n",
       "      <td>0.128221</td>\n",
       "      <td>0.068086</td>\n",
       "      <td>0.246717</td>\n",
       "      <td>0.314803</td>\n",
       "      <td>14.087323</td>\n",
       "      <td>14.090839</td>\n",
       "      <td>2.006219</td>\n",
       "    </tr>\n",
       "  </tbody>\n",
       "</table>\n",
       "<p>3 rows × 73 columns</p>\n",
       "</div>"
      ],
      "text/plain": [
       "                   id  cnt        ra_k      dec_k     vs_type vs_catalog  \\\n",
       "4456   32140000002913   68  280.582129 -25.299033  RRLyr-RRab     vizier   \n",
       "21827  32140000030432   68  280.482488 -25.156328  RRLyr-RRab     vizier   \n",
       "21929  32140000030564   68  281.279492 -25.499744  RRLyr-RRab     vizier   \n",
       "\n",
       "       Amplitude  Autocor_length  Beyond1Std  Con  ...  c89_jk_color  \\\n",
       "4456     0.12600             1.0    0.279412  0.0  ...      0.162897   \n",
       "21827    0.17275             1.0    0.235294  0.0  ...      0.221322   \n",
       "21929    0.18400             1.0    0.308824  0.0  ...      0.314535   \n",
       "\n",
       "          c89_m2     c89_m4    n09_c3  n09_hk_color  n09_jh_color  \\\n",
       "4456   13.827993  13.819663  0.053522      0.040231      0.123061   \n",
       "21827  13.112390  13.104045  0.049464      0.062893      0.158674   \n",
       "21929  14.001622  13.984766  0.128221      0.068086      0.246717   \n",
       "\n",
       "       n09_jk_color     n09_m2     n09_m4      ppmb  \n",
       "4456       0.163291  13.893530  13.895081  1.629816  \n",
       "21827      0.221566  13.185733  13.187114  1.672651  \n",
       "21929      0.314803  14.087323  14.090839  2.006219  \n",
       "\n",
       "[3 rows x 73 columns]"
      ]
     },
     "execution_count": 4,
     "metadata": {},
     "output_type": "execute_result"
    }
   ],
   "source": [
    "rrs = df[df.vs_type == \"RRLyr-RRab\"][:3]\n",
    "rrs"
   ]
  },
  {
   "cell_type": "markdown",
   "metadata": {},
   "source": [
    "We can check their mean of magnitudes to check if the source is not saturated or diffuse."
   ]
  },
  {
   "cell_type": "code",
   "execution_count": 5,
   "metadata": {},
   "outputs": [
    {
     "data": {
      "text/plain": [
       "4456     14.086691\n",
       "21827    13.488265\n",
       "21929    14.412221\n",
       "Name: Mean, dtype: float64"
      ]
     },
     "execution_count": 5,
     "metadata": {},
     "output_type": "execute_result"
    }
   ],
   "source": [
    "rrs.Mean"
   ]
  },
  {
   "cell_type": "markdown",
   "metadata": {},
   "source": [
    "The three are between 12 an 16.5, so they are ok, and their pulsation?"
   ]
  },
  {
   "cell_type": "code",
   "execution_count": 6,
   "metadata": {},
   "outputs": [
    {
     "data": {
      "text/plain": [
       "4456     0.071391\n",
       "21827    0.090222\n",
       "21929    0.120290\n",
       "Name: Std, dtype: float64"
      ]
     },
     "execution_count": 6,
     "metadata": {},
     "output_type": "execute_result"
    }
   ],
   "source": [
    "rrs.Std"
   ]
  },
  {
   "cell_type": "markdown",
   "metadata": {},
   "source": [
    "Plotting time: we need the lc catalog to show the phased-folded light curve."
   ]
  },
  {
   "cell_type": "code",
   "execution_count": 7,
   "metadata": {},
   "outputs": [],
   "source": [
    "lcs = client.get_catalog(\"b214\", \"lc\")"
   ]
  },
  {
   "cell_type": "markdown",
   "metadata": {},
   "source": [
    "Now to reduce the memory footprint we can retrieve the lc for only our 3 selected stars"
   ]
  },
  {
   "cell_type": "code",
   "execution_count": 8,
   "metadata": {},
   "outputs": [],
   "source": [
    "lcs = lcs[lcs.bm_src_id.isin(rrs.id)]"
   ]
  },
  {
   "cell_type": "markdown",
   "metadata": {},
   "source": [
    "For make our code simple we can use to folde the light curve the [PyAstronomy](https://www.hs.uni-hamburg.de/DE/Ins/Per/Czesla/PyA/PyA/index.html) and numpy library "
   ]
  },
  {
   "cell_type": "code",
   "execution_count": 9,
   "metadata": {},
   "outputs": [],
   "source": [
    "from PyAstronomy.pyasl import foldAt\n",
    "import numpy as np"
   ]
  },
  {
   "cell_type": "code",
   "execution_count": 10,
   "metadata": {},
   "outputs": [],
   "source": [
    "%matplotlib inline \n",
    "import matplotlib.pyplot as plt"
   ]
  },
  {
   "cell_type": "markdown",
   "metadata": {},
   "source": [
    "now we can plot the folded and unfolded lightcurves"
   ]
  },
  {
   "cell_type": "code",
   "execution_count": 11,
   "metadata": {},
   "outputs": [
    {
     "data": {
      "image/png": "[encoded data removed]",
      "text/plain": [
       "<Figure size 864x432 with 2 Axes>"
      ]
     },
     "metadata": {
      "needs_background": "light"
     },
     "output_type": "display_data"
    }
   ],
   "source": [
    "# get one ot the 3 sources\n",
    "rr = rrs.iloc[0]\n",
    "\n",
    "# retrieve the lightcurve for this rr\n",
    "lc = lcs[lcs.bm_src_id == rr.id]\n",
    "\n",
    "# sort by time\n",
    "lc = lc.sort_values(\"pwp_stack_src_hjd\")\n",
    "\n",
    "# split in time, magnitude and error \n",
    "time, mag, err = (\n",
    "        lc.pwp_stack_src_hjd.values,\n",
    "        lc.pwp_stack_src_mag3.values,\n",
    "        lc.pwp_stack_src_mag_err3.values)\n",
    "\n",
    "# t0 is the first time\n",
    "t0 = time[0]\n",
    "\n",
    "# fold\n",
    "phases = foldAt(time, rr.PeriodLS, T0=t0)\n",
    "sort = np.argsort(phases)\n",
    "phases, pmag, perr = phases[sort], mag[sort], err[sort]\n",
    "\n",
    "# duplicate the values in two phases\n",
    "phases = np.hstack((phases, phases + 1))\n",
    "pmag = np.hstack((pmag, pmag))\n",
    "perr = np.hstack((perr, perr))\n",
    "\n",
    "# now create two plot for the folded and the unfolde LC\n",
    "fig, axes = plt.subplots(2, 1, figsize=(12, 6))\n",
    "\n",
    "# first lets plot the unfolded lc\n",
    "ax = axes[0]\n",
    "ax.errorbar(time, mag, err, ls=\"\", marker=\"o\", ecolor=\"red\")\n",
    "ax.set_title(f\"Light Curve of source {rr.id}\")\n",
    "ax.set_ylabel(\"Magnitude\")\n",
    "ax.set_xlabel(\"HJD\")\n",
    "ax.invert_yaxis()\n",
    "\n",
    "# now the folded lc\n",
    "ax = axes[1]\n",
    "ax.errorbar(phases, pmag, perr, ls=\"\", marker=\"o\", ecolor=\"blue\", color=\"red\")\n",
    "ax.set_title(f\"Folded Light Curve of source {rr.id}\")\n",
    "ax.set_ylabel(\"Magnitude\")\n",
    "ax.set_xlabel(\"Phase\")\n",
    "ax.invert_yaxis()\n",
    "\n",
    "fig.tight_layout()"
   ]
  },
  {
   "cell_type": "markdown",
   "metadata": {},
   "source": [
    "The next light curve"
   ]
  },
  {
   "cell_type": "code",
   "execution_count": 12,
   "metadata": {},
   "outputs": [
    {
     "data": {
      "image/png": "[encoded data removed]",
      "text/plain": [
       "<Figure size 864x432 with 2 Axes>"
      ]
     },
     "metadata": {
      "needs_background": "light"
     },
     "output_type": "display_data"
    }
   ],
   "source": [
    "rr = rrs.iloc[1]\n",
    "lc = lcs[lcs.bm_src_id == rr.id]\n",
    "lc = lc.sort_values(\"pwp_stack_src_hjd\")\n",
    "\n",
    "time, mag, err = (\n",
    "        lc.pwp_stack_src_hjd.values,\n",
    "        lc.pwp_stack_src_mag3.values,\n",
    "        lc.pwp_stack_src_mag_err3.values)\n",
    "\n",
    "t0 = time[0]\n",
    "\n",
    "phases = foldAt(time, rr.PeriodLS, T0=t0)\n",
    "sort = np.argsort(phases)\n",
    "phases, pmag, perr = phases[sort], mag[sort], err[sort]\n",
    "\n",
    "phases = np.hstack((phases, phases + 1))\n",
    "pmag = np.hstack((pmag, pmag))\n",
    "perr = np.hstack((perr, perr))\n",
    "\n",
    "\n",
    "fig, axes = plt.subplots(2, 1, figsize=(12, 6))\n",
    "\n",
    "ax = axes[0]\n",
    "ax.errorbar(time, mag, err, ls=\"\", marker=\"o\", ecolor=\"red\")\n",
    "ax.set_title(f\"Light Curve of source {rr.id}\")\n",
    "ax.set_ylabel(\"Magnitude\")\n",
    "ax.set_xlabel(\"HJD\")\n",
    "ax.invert_yaxis()\n",
    "\n",
    "ax = axes[1]\n",
    "ax.errorbar(phases, pmag, perr, ls=\"\", marker=\"o\", ecolor=\"blue\", color=\"red\")\n",
    "ax.set_title(f\"Folded Light Curve of source {rr.id}\")\n",
    "ax.set_ylabel(\"Magnitude\")\n",
    "ax.set_xlabel(\"Phase\")\n",
    "ax.invert_yaxis()\n",
    "\n",
    "fig.tight_layout()"
   ]
  },
  {
   "cell_type": "markdown",
   "metadata": {},
   "source": [
    "And the final one"
   ]
  },
  {
   "cell_type": "code",
   "execution_count": 13,
   "metadata": {},
   "outputs": [
    {
     "data": {
      "image/png": "[encoded data removed]",
      "text/plain": [
       "<Figure size 864x432 with 2 Axes>"
      ]
     },
     "metadata": {
      "needs_background": "light"
     },
     "output_type": "display_data"
    }
   ],
   "source": [
    "rr = rrs.iloc[2]\n",
    "lc = lcs[lcs.bm_src_id == rr.id]\n",
    "lc = lc.sort_values(\"pwp_stack_src_hjd\")\n",
    "\n",
    "time, mag, err = (\n",
    "        lc.pwp_stack_src_hjd.values,\n",
    "        lc.pwp_stack_src_mag3.values,\n",
    "        lc.pwp_stack_src_mag_err3.values)\n",
    "\n",
    "t0 = time[0]\n",
    "\n",
    "phases = foldAt(time, rr.PeriodLS, T0=t0)\n",
    "sort = np.argsort(phases)\n",
    "phases, pmag, perr = phases[sort], mag[sort], err[sort]\n",
    "\n",
    "phases = np.hstack((phases, phases + 1))\n",
    "pmag = np.hstack((pmag, pmag))\n",
    "perr = np.hstack((perr, perr))\n",
    "\n",
    "\n",
    "fig, axes = plt.subplots(2, 1, figsize=(12, 6))\n",
    "\n",
    "ax = axes[0]\n",
    "ax.errorbar(time, mag, err, ls=\"\", marker=\"o\", ecolor=\"red\")\n",
    "ax.set_title(f\"Light Curve of source {rr.id}\")\n",
    "ax.set_ylabel(\"Magnitude\")\n",
    "ax.set_xlabel(\"HJD\")\n",
    "ax.invert_yaxis()\n",
    "\n",
    "ax = axes[1]\n",
    "ax.errorbar(phases, pmag, perr, ls=\"\", marker=\"o\", ecolor=\"blue\", color=\"red\")\n",
    "ax.set_title(f\"Folded Light Curve of source {rr.id}\")\n",
    "ax.set_ylabel(\"Magnitude\")\n",
    "ax.set_xlabel(\"Phase\")\n",
    "ax.invert_yaxis()\n",
    "\n",
    "fig.tight_layout()"
   ]
  },
  {
   "cell_type": "code",
   "execution_count": 14,
   "metadata": {},
   "outputs": [
    {
     "data": {
      "text/plain": [
       "datetime.datetime(2022, 6, 13, 0, 13, 25, 563015)"
      ]
     },
     "execution_count": 14,
     "metadata": {},
     "output_type": "execute_result"
    }
   ],
   "source": [
    "import datetime as dt\n",
    "dt.datetime.now()"
   ]
  },
  {
   "cell_type": "code",
   "execution_count": null,
   "metadata": {},
   "outputs": [],
   "source": []
  }
 ],
 "metadata": {
  "kernelspec": {
   "display_name": "Python 3.9.7 ('carpyncho-py')",
   "language": "python",
   "name": "python3"
  },
  "language_info": {
   "codemirror_mode": {
    "name": "ipython",
    "version": 3
   },
   "file_extension": ".py",
   "mimetype": "text/x-python",
   "name": "python",
   "nbconvert_exporter": "python",
   "pygments_lexer": "ipython3",
   "version": "3.9.7"
  },
  "vscode": {
   "interpreter": {
    "hash": "b0327d9ac6e86e77873c3ed3efcda8f48f36be897d9dac5b7e9df4fe6b95d9ba"
   }
  }
 },
 "nbformat": 4,
 "nbformat_minor": 4
}
