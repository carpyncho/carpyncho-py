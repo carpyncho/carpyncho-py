{
 "cells": [
  {
   "cell_type": "markdown",
   "metadata": {},
   "source": [
    "# Introduction\n",
    "\n",
    "\n",
    "This tutorial will show how to understand and manipilate the `carpyncho` Python Client.\n",
    "\n",
    "First we need to import the module, and instantiate the client"
   ]
  },
  {
   "cell_type": "code",
   "execution_count": 1,
   "metadata": {},
   "outputs": [],
   "source": [
    "# import the module\n",
    "import carpyncho \n",
    "\n",
    "# instance the client\n",
    "client = carpyncho.Carpyncho()"
   ]
  },
  {
   "cell_type": "markdown",
   "metadata": {},
   "source": [
    "Firsts lets check which tiles have available catalogs to download."
   ]
  },
  {
   "cell_type": "code",
   "execution_count": 2,
   "metadata": {},
   "outputs": [
    {
     "data": {
      "text/plain": [
       "('others',\n",
       " 'b206',\n",
       " 'b214',\n",
       " 'b216',\n",
       " 'b220',\n",
       " 'b228',\n",
       " 'b234',\n",
       " 'b247',\n",
       " 'b248',\n",
       " 'b261',\n",
       " 'b262',\n",
       " 'b263',\n",
       " 'b264',\n",
       " 'b277',\n",
       " 'b278',\n",
       " 'b356',\n",
       " 'b360',\n",
       " 'b396')"
      ]
     },
     "execution_count": 2,
     "metadata": {},
     "output_type": "execute_result"
    }
   ],
   "source": [
    "client.list_tiles()"
   ]
  },
  {
   "cell_type": "markdown",
   "metadata": {},
   "source": [
    "Well lets asume we are interested in the tile `b216`, so we can check which catalogs are available in this tiles"
   ]
  },
  {
   "cell_type": "code",
   "execution_count": 3,
   "metadata": {},
   "outputs": [
    {
     "data": {
      "text/plain": [
       "('features', 'lc')"
      ]
     },
     "execution_count": 3,
     "metadata": {},
     "output_type": "execute_result"
    }
   ],
   "source": [
    "client.list_catalogs(\"b216\")"
   ]
  },
  {
   "cell_type": "markdown",
   "metadata": {},
   "source": [
    "Well we see that  catalogs with the light curves (`lc`), and the features of those curves (`features`) are available. \n",
    "\n",
    "So for example we now can retrieve more info of any of this catalogs, for simplicity let's check the *b216 lc*"
   ]
  },
  {
   "cell_type": "code",
   "execution_count": 4,
   "metadata": {},
   "outputs": [
    {
     "data": {
      "text/plain": [
       "{'hname': 'Time-Series',\n",
       " 'format': 'BZIP2-Parquet',\n",
       " 'extension': '.parquet.bz2',\n",
       " 'date': '2020-04-14',\n",
       " 'md5sum': '236e126f82e80684f29247220470b831  lc_obs_b216.parquet.bz2',\n",
       " 'filename': 'lc_obs_b216.parquet.bz2',\n",
       " 'driveid': '1C-_3A6almD42ewASe8n74Y355mYn9tZG',\n",
       " 'size': 369866999,\n",
       " 'records': 37839384}"
      ]
     },
     "execution_count": 4,
     "metadata": {},
     "output_type": "execute_result"
    }
   ],
   "source": [
    "client.catalog_info(\"b216\", \"lc\")"
   ]
  },
  {
   "cell_type": "markdown",
   "metadata": {},
   "source": [
    "The attribute `hname` is a human readable version of the name of the catalog, the next two keys have information of format of the catalog (how is stored in the cloud), next are information about the date of publication of the file, check-sums and the cloud-ID (all of this is mostly for internal use). \n",
    "\n",
    "Finally we have the two more important information: `size` is the size in bytes of the file (*352.7 MiB*) and the number of records stored in the file (more than 37 millons).\n",
    "\n",
    "Ok... to big, lets check the *b278 features* catalog"
   ]
  },
  {
   "cell_type": "code",
   "execution_count": 5,
   "metadata": {},
   "outputs": [
    {
     "data": {
      "text/plain": [
       "{'hname': 'Features',\n",
       " 'format': 'BZIP2-Parquet',\n",
       " 'extension': '.parquet.bz2',\n",
       " 'date': '2020-04-14',\n",
       " 'md5sum': '433aae05541a2f5b191aa95d717fa83c  features_b216.parquet.bz2',\n",
       " 'filename': 'features_b216.parquet.bz2',\n",
       " 'driveid': '1-t165sLjn0k507SFeW-A4p9wYVL9rP4B',\n",
       " 'size': 149073679,\n",
       " 'records': 334773}"
      ]
     },
     "execution_count": 5,
     "metadata": {},
     "output_type": "execute_result"
    }
   ],
   "source": [
    "client.catalog_info(\"b216\", \"features\")"
   ]
  },
  {
   "cell_type": "markdown",
   "metadata": {},
   "source": [
    "In this case this file is only `142.2 MiB` of size, let's retrive it into a dataframe."
   ]
  },
  {
   "cell_type": "code",
   "execution_count": 6,
   "metadata": {},
   "outputs": [
    {
     "name": "stderr",
     "output_type": "stream",
     "text": [
      "b278-features:   0%|          | 0.00/349M [00:00<?, ?B/s]"
     ]
    },
    {
     "ename": "OSError",
     "evalue": "Invalid data stream",
     "output_type": "error",
     "traceback": [
      "\u001b[0;31m---------------------------------------------------------------------------\u001b[0m",
      "\u001b[0;31mOSError\u001b[0m                                   Traceback (most recent call last)",
      "\u001b[1;32m/home/jusn/proyectos/carpyncho-py/src/docs/source/tutorials/00_Intro.ipynb Cell 12'\u001b[0m in \u001b[0;36m<cell line: 2>\u001b[0;34m()\u001b[0m\n\u001b[1;32m      <a href='vscode-notebook-cell:/home/jusn/proyectos/carpyncho-py/src/docs/source/tutorials/00_Intro.ipynb#ch0000011?line=0'>1</a>\u001b[0m \u001b[39m# the first time this can be slow\u001b[39;00m\n\u001b[0;32m----> <a href='vscode-notebook-cell:/home/jusn/proyectos/carpyncho-py/src/docs/source/tutorials/00_Intro.ipynb#ch0000011?line=1'>2</a>\u001b[0m df \u001b[39m=\u001b[39m client\u001b[39m.\u001b[39;49mget_catalog(\u001b[39m\"\u001b[39;49m\u001b[39mb278\u001b[39;49m\u001b[39m\"\u001b[39;49m, \u001b[39m\"\u001b[39;49m\u001b[39mfeatures\u001b[39;49m\u001b[39m\"\u001b[39;49m)\n\u001b[1;32m      <a href='vscode-notebook-cell:/home/jusn/proyectos/carpyncho-py/src/docs/source/tutorials/00_Intro.ipynb#ch0000011?line=2'>3</a>\u001b[0m df\n",
      "File \u001b[0;32m~/proyectos/carpyncho-py/src/carpyncho.py:432\u001b[0m, in \u001b[0;36mCarpyncho.get_catalog\u001b[0;34m(self, tile, catalog, force)\u001b[0m\n\u001b[1;32m    <a href='file:///home/jusn/proyectos/carpyncho-py/src/carpyncho.py?line=428'>429</a>\u001b[0m driveid, size \u001b[39m=\u001b[39m info[\u001b[39m\"\u001b[39m\u001b[39mdriveid\u001b[39m\u001b[39m\"\u001b[39m], info[\u001b[39m\"\u001b[39m\u001b[39msize\u001b[39m\u001b[39m\"\u001b[39m]\n\u001b[1;32m    <a href='file:///home/jusn/proyectos/carpyncho-py/src/carpyncho.py?line=429'>430</a>\u001b[0m md5sum \u001b[39m=\u001b[39m info[\u001b[39m\"\u001b[39m\u001b[39mmd5sum\u001b[39m\u001b[39m\"\u001b[39m]\u001b[39m.\u001b[39msplit()[\u001b[39m0\u001b[39m]\u001b[39m.\u001b[39mstrip()\u001b[39m.\u001b[39mlower()\n\u001b[0;32m--> <a href='file:///home/jusn/proyectos/carpyncho-py/src/carpyncho.py?line=431'>432</a>\u001b[0m df \u001b[39m=\u001b[39m from_cache(\n\u001b[1;32m    <a href='file:///home/jusn/proyectos/carpyncho-py/src/carpyncho.py?line=432'>433</a>\u001b[0m     cache\u001b[39m=\u001b[39;49m\u001b[39mself\u001b[39;49m\u001b[39m.\u001b[39;49mcache,\n\u001b[1;32m    <a href='file:///home/jusn/proyectos/carpyncho-py/src/carpyncho.py?line=433'>434</a>\u001b[0m     tag\u001b[39m=\u001b[39;49m\u001b[39m\"\u001b[39;49m\u001b[39mget_catalog\u001b[39;49m\u001b[39m\"\u001b[39;49m,\n\u001b[1;32m    <a href='file:///home/jusn/proyectos/carpyncho-py/src/carpyncho.py?line=434'>435</a>\u001b[0m     function\u001b[39m=\u001b[39;49m\u001b[39mself\u001b[39;49m\u001b[39m.\u001b[39;49m_grive_download,\n\u001b[1;32m    <a href='file:///home/jusn/proyectos/carpyncho-py/src/carpyncho.py?line=435'>436</a>\u001b[0m     cache_expire\u001b[39m=\u001b[39;49m\u001b[39mself\u001b[39;49m\u001b[39m.\u001b[39;49mcache_expire,\n\u001b[1;32m    <a href='file:///home/jusn/proyectos/carpyncho-py/src/carpyncho.py?line=436'>437</a>\u001b[0m     force\u001b[39m=\u001b[39;49mforce,\n\u001b[1;32m    <a href='file:///home/jusn/proyectos/carpyncho-py/src/carpyncho.py?line=437'>438</a>\u001b[0m     \u001b[39m# params to _gdrive_download\u001b[39;49;00m\n\u001b[1;32m    <a href='file:///home/jusn/proyectos/carpyncho-py/src/carpyncho.py?line=438'>439</a>\u001b[0m     tile\u001b[39m=\u001b[39;49mtile,\n\u001b[1;32m    <a href='file:///home/jusn/proyectos/carpyncho-py/src/carpyncho.py?line=439'>440</a>\u001b[0m     catalog\u001b[39m=\u001b[39;49mcatalog,\n\u001b[1;32m    <a href='file:///home/jusn/proyectos/carpyncho-py/src/carpyncho.py?line=440'>441</a>\u001b[0m     driveid\u001b[39m=\u001b[39;49mdriveid,\n\u001b[1;32m    <a href='file:///home/jusn/proyectos/carpyncho-py/src/carpyncho.py?line=441'>442</a>\u001b[0m     size\u001b[39m=\u001b[39;49msize,\n\u001b[1;32m    <a href='file:///home/jusn/proyectos/carpyncho-py/src/carpyncho.py?line=442'>443</a>\u001b[0m     md5sum\u001b[39m=\u001b[39;49mmd5sum,\n\u001b[1;32m    <a href='file:///home/jusn/proyectos/carpyncho-py/src/carpyncho.py?line=443'>444</a>\u001b[0m )\n\u001b[1;32m    <a href='file:///home/jusn/proyectos/carpyncho-py/src/carpyncho.py?line=445'>446</a>\u001b[0m \u001b[39mreturn\u001b[39;00m df\n",
      "File \u001b[0;32m~/proyectos/carpyncho-py/src/carpyncho.py:141\u001b[0m, in \u001b[0;36mfrom_cache\u001b[0;34m(cache, tag, function, cache_expire, force, *args, **kwargs)\u001b[0m\n\u001b[1;32m    <a href='file:///home/jusn/proyectos/carpyncho-py/src/carpyncho.py?line=133'>134</a>\u001b[0m     value \u001b[39m=\u001b[39m (\n\u001b[1;32m    <a href='file:///home/jusn/proyectos/carpyncho-py/src/carpyncho.py?line=134'>135</a>\u001b[0m         dcache\u001b[39m.\u001b[39mcore\u001b[39m.\u001b[39mENOVAL\n\u001b[1;32m    <a href='file:///home/jusn/proyectos/carpyncho-py/src/carpyncho.py?line=135'>136</a>\u001b[0m         \u001b[39mif\u001b[39;00m force\n\u001b[1;32m    <a href='file:///home/jusn/proyectos/carpyncho-py/src/carpyncho.py?line=136'>137</a>\u001b[0m         \u001b[39melse\u001b[39;00m c\u001b[39m.\u001b[39mget(key, default\u001b[39m=\u001b[39mdcache\u001b[39m.\u001b[39mcore\u001b[39m.\u001b[39mENOVAL, retry\u001b[39m=\u001b[39m\u001b[39mTrue\u001b[39;00m)\n\u001b[1;32m    <a href='file:///home/jusn/proyectos/carpyncho-py/src/carpyncho.py?line=137'>138</a>\u001b[0m     )\n\u001b[1;32m    <a href='file:///home/jusn/proyectos/carpyncho-py/src/carpyncho.py?line=139'>140</a>\u001b[0m     \u001b[39mif\u001b[39;00m value \u001b[39mis\u001b[39;00m dcache\u001b[39m.\u001b[39mcore\u001b[39m.\u001b[39mENOVAL:\n\u001b[0;32m--> <a href='file:///home/jusn/proyectos/carpyncho-py/src/carpyncho.py?line=140'>141</a>\u001b[0m         value \u001b[39m=\u001b[39m function(\u001b[39m*\u001b[39;49m\u001b[39m*\u001b[39;49mkwargs)\n\u001b[1;32m    <a href='file:///home/jusn/proyectos/carpyncho-py/src/carpyncho.py?line=141'>142</a>\u001b[0m         c\u001b[39m.\u001b[39mset(\n\u001b[1;32m    <a href='file:///home/jusn/proyectos/carpyncho-py/src/carpyncho.py?line=142'>143</a>\u001b[0m             key,\n\u001b[1;32m    <a href='file:///home/jusn/proyectos/carpyncho-py/src/carpyncho.py?line=143'>144</a>\u001b[0m             value,\n\u001b[0;32m   (...)\u001b[0m\n\u001b[1;32m    <a href='file:///home/jusn/proyectos/carpyncho-py/src/carpyncho.py?line=146'>147</a>\u001b[0m             retry\u001b[39m=\u001b[39m\u001b[39mTrue\u001b[39;00m,\n\u001b[1;32m    <a href='file:///home/jusn/proyectos/carpyncho-py/src/carpyncho.py?line=147'>148</a>\u001b[0m         )\n\u001b[1;32m    <a href='file:///home/jusn/proyectos/carpyncho-py/src/carpyncho.py?line=149'>150</a>\u001b[0m \u001b[39mreturn\u001b[39;00m value\n",
      "File \u001b[0;32m~/proyectos/carpyncho-py/src/carpyncho.py:380\u001b[0m, in \u001b[0;36mCarpyncho._grive_download\u001b[0;34m(self, tile, catalog, driveid, size, md5sum)\u001b[0m\n\u001b[1;32m    <a href='file:///home/jusn/proyectos/carpyncho-py/src/carpyncho.py?line=376'>377</a>\u001b[0m \u001b[39mif\u001b[39;00m \u001b[39mnot\u001b[39;00m chunk:\n\u001b[1;32m    <a href='file:///home/jusn/proyectos/carpyncho-py/src/carpyncho.py?line=377'>378</a>\u001b[0m     \u001b[39mbreak\u001b[39;00m\n\u001b[0;32m--> <a href='file:///home/jusn/proyectos/carpyncho-py/src/carpyncho.py?line=379'>380</a>\u001b[0m decompressed \u001b[39m=\u001b[39m decompressor\u001b[39m.\u001b[39;49mdecompress(chunk)\n\u001b[1;32m    <a href='file:///home/jusn/proyectos/carpyncho-py/src/carpyncho.py?line=380'>381</a>\u001b[0m parquet_stream\u001b[39m.\u001b[39mwrite(decompressed)\n\u001b[1;32m    <a href='file:///home/jusn/proyectos/carpyncho-py/src/carpyncho.py?line=382'>383</a>\u001b[0m file_hash\u001b[39m.\u001b[39mupdate(chunk)\n",
      "\u001b[0;31mOSError\u001b[0m: Invalid data stream"
     ]
    }
   ],
   "source": [
    "# the first time this can be slow\n",
    "df = client.get_catalog(\"b278\", \"features\")\n",
    "df"
   ]
  },
  {
   "cell_type": "markdown",
   "metadata": {},
   "source": [
    "Well we have a lot of imformation to play here. Let's check if we have some multiple types of sources"
   ]
  },
  {
   "cell_type": "code",
   "execution_count": null,
   "metadata": {},
   "outputs": [],
   "source": [
    "df.groupby(\"vs_type\").id.count()"
   ]
  },
  {
   "cell_type": "markdown",
   "metadata": {},
   "source": [
    "Well 41 RRab stars (and more than 334K of unknow sources)"
   ]
  },
  {
   "cell_type": "markdown",
   "metadata": {},
   "source": [
    "Well we have a lot to use here, lets make some plots.\n",
    "\n",
    "Form now on, yo simple have a big pandas dataframe to manipulate.\n",
    "\n",
    "All the methods of `carpyncho.Carpyncho` client are well documented and you \n",
    "can acces it whit the '?' command in Jupyter"
   ]
  },
  {
   "cell_type": "code",
   "execution_count": null,
   "metadata": {},
   "outputs": [],
   "source": [
    "client.get_catalog?"
   ]
  },
  {
   "cell_type": "code",
   "execution_count": null,
   "metadata": {},
   "outputs": [],
   "source": [
    "import datetime as dt\n",
    "dt.datetime.now()"
   ]
  }
 ],
 "metadata": {
  "interpreter": {
   "hash": "b0327d9ac6e86e77873c3ed3efcda8f48f36be897d9dac5b7e9df4fe6b95d9ba"
  },
  "kernelspec": {
   "display_name": "Python 3.9.7 ('carpyncho-py')",
   "language": "python",
   "name": "python3"
  },
  "language_info": {
   "codemirror_mode": {
    "name": "ipython",
    "version": 3
   },
   "file_extension": ".py",
   "mimetype": "text/x-python",
   "name": "python",
   "nbconvert_exporter": "python",
   "pygments_lexer": "ipython3",
   "version": "3.9.7"
  }
 },
 "nbformat": 4,
 "nbformat_minor": 4
}
