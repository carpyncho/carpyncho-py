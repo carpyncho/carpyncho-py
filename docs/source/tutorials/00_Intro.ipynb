{
 "cells": [
  {
   "cell_type": "markdown",
   "metadata": {},
   "source": [
    "# Introduction\n",
    "\n",
    "\n",
    "This tutorial will show how to understand and manipilate the `carpyncho` Python Client.\n",
    "\n",
    "First we need to import the module, and instantiate the client"
   ]
  },
  {
   "cell_type": "code",
   "execution_count": 1,
   "metadata": {},
   "outputs": [],
   "source": [
    "# import the module\n",
    "import carpyncho \n",
    "\n",
    "# instance the client\n",
    "client = carpyncho.Carpyncho()"
   ]
  },
  {
   "cell_type": "markdown",
   "metadata": {},
   "source": [
    "Firsts lets check which tiles have available catalogs to download."
   ]
  },
  {
   "cell_type": "code",
   "execution_count": 2,
   "metadata": {},
   "outputs": [
    {
     "data": {
      "text/plain": [
       "('others',\n",
       " 'b206',\n",
       " 'b214',\n",
       " 'b216',\n",
       " 'b220',\n",
       " 'b228',\n",
       " 'b234',\n",
       " 'b247',\n",
       " 'b248',\n",
       " 'b261',\n",
       " 'b262',\n",
       " 'b263',\n",
       " 'b264',\n",
       " 'b277',\n",
       " 'b278',\n",
       " 'b356',\n",
       " 'b360',\n",
       " 'b396')"
      ]
     },
     "execution_count": 2,
     "metadata": {},
     "output_type": "execute_result"
    }
   ],
   "source": [
    "client.list_tiles()"
   ]
  },
  {
   "cell_type": "markdown",
   "metadata": {},
   "source": [
    "Well lets asume we are interested in the tile `b216`, so we can check which catalogs are available in this tiles"
   ]
  },
  {
   "cell_type": "code",
   "execution_count": 3,
   "metadata": {},
   "outputs": [
    {
     "data": {
      "text/plain": [
       "('features', 'lc')"
      ]
     },
     "execution_count": 3,
     "metadata": {},
     "output_type": "execute_result"
    }
   ],
   "source": [
    "client.list_catalogs(\"b216\")"
   ]
  },
  {
   "cell_type": "markdown",
   "metadata": {},
   "source": [
    "Well we see that  catalogs with the light curves (`lc`), and the features of those curves (`features`) are available. \n",
    "\n",
    "So for example we now can retrieve more info of any of this catalogs, for simplicity let's check the *b216 lc*"
   ]
  },
  {
   "cell_type": "code",
   "execution_count": 4,
   "metadata": {},
   "outputs": [
    {
     "data": {
      "text/plain": [
       "{'hname': 'Time-Series',\n",
       " 'format': 'BZIP2-Parquet',\n",
       " 'extension': '.parquet.bz2',\n",
       " 'date': '2020-04-14',\n",
       " 'md5sum': '236e126f82e80684f29247220470b831  lc_obs_b216.parquet.bz2',\n",
       " 'filename': 'lc_obs_b216.parquet.bz2',\n",
       " 'url': 'https://catalogs.iate.conicet.unc.edu.ar/carpyncho/lcurves/b216/lc_obs_b216.parquet.bz2',\n",
       " 'size': 369866999,\n",
       " 'records': 37839384}"
      ]
     },
     "execution_count": 4,
     "metadata": {},
     "output_type": "execute_result"
    }
   ],
   "source": [
    "client.catalog_info(\"b216\", \"lc\")"
   ]
  },
  {
   "cell_type": "markdown",
   "metadata": {},
   "source": [
    "The attribute `hname` is a human readable version of the name of the catalog, the next two keys have information of format of the catalog (how is stored in the cloud), next are information about the date of publication of the file, check-sums and the cloud-ID (all of this is mostly for internal use). \n",
    "\n",
    "Finally we have the two more important information: `size` is the size in bytes of the file (*352.7 MiB*) and the number of records stored in the file (more than 37 millons).\n",
    "\n",
    "Ok... to big, lets check the *b278 features* catalog"
   ]
  },
  {
   "cell_type": "code",
   "execution_count": 5,
   "metadata": {},
   "outputs": [
    {
     "data": {
      "text/plain": [
       "{'hname': 'Features',\n",
       " 'format': 'BZIP2-Parquet',\n",
       " 'extension': '.parquet.bz2',\n",
       " 'date': '2020-04-14',\n",
       " 'md5sum': '433aae05541a2f5b191aa95d717fa83c  features_b216.parquet.bz2',\n",
       " 'filename': 'features_b216.parquet.bz2',\n",
       " 'url': 'https://catalogs.iate.conicet.unc.edu.ar/carpyncho/lcurves/b216/features_b216.parquet.bz2',\n",
       " 'size': 149073679,\n",
       " 'records': 334773}"
      ]
     },
     "execution_count": 5,
     "metadata": {},
     "output_type": "execute_result"
    }
   ],
   "source": [
    "client.catalog_info(\"b216\", \"features\")"
   ]
  },
  {
   "cell_type": "markdown",
   "metadata": {},
   "source": [
    "In this case this file is only `142.2 MiB` of size, let's retrive it into a dataframe."
   ]
  },
  {
   "cell_type": "code",
   "execution_count": 6,
   "metadata": {},
   "outputs": [
    {
     "name": "stderr",
     "output_type": "stream",
     "text": [
      "b278-features: 349MB [02:23, 2.42MB/s]                            \n"
     ]
    },
    {
     "data": {
      "text/html": [
       "<div>\n",
       "<style scoped>\n",
       "    .dataframe tbody tr th:only-of-type {\n",
       "        vertical-align: middle;\n",
       "    }\n",
       "\n",
       "    .dataframe tbody tr th {\n",
       "        vertical-align: top;\n",
       "    }\n",
       "\n",
       "    .dataframe thead th {\n",
       "        text-align: right;\n",
       "    }\n",
       "</style>\n",
       "<table border=\"1\" class=\"dataframe\">\n",
       "  <thead>\n",
       "    <tr style=\"text-align: right;\">\n",
       "      <th></th>\n",
       "      <th>id</th>\n",
       "      <th>cnt</th>\n",
       "      <th>ra_k</th>\n",
       "      <th>dec_k</th>\n",
       "      <th>vs_type</th>\n",
       "      <th>vs_catalog</th>\n",
       "      <th>Amplitude</th>\n",
       "      <th>Autocor_length</th>\n",
       "      <th>Beyond1Std</th>\n",
       "      <th>Con</th>\n",
       "      <th>...</th>\n",
       "      <th>c89_jk_color</th>\n",
       "      <th>c89_m2</th>\n",
       "      <th>c89_m4</th>\n",
       "      <th>n09_c3</th>\n",
       "      <th>n09_hk_color</th>\n",
       "      <th>n09_jh_color</th>\n",
       "      <th>n09_jk_color</th>\n",
       "      <th>n09_m2</th>\n",
       "      <th>n09_m4</th>\n",
       "      <th>ppmb</th>\n",
       "    </tr>\n",
       "  </thead>\n",
       "  <tbody>\n",
       "    <tr>\n",
       "      <th>0</th>\n",
       "      <td>32780000001647</td>\n",
       "      <td>33</td>\n",
       "      <td>270.675437</td>\n",
       "      <td>-30.833556</td>\n",
       "      <td></td>\n",
       "      <td></td>\n",
       "      <td>0.4205</td>\n",
       "      <td>1.0</td>\n",
       "      <td>0.303030</td>\n",
       "      <td>0.0</td>\n",
       "      <td>...</td>\n",
       "      <td>0.254668</td>\n",
       "      <td>14.690558</td>\n",
       "      <td>14.666523</td>\n",
       "      <td>0.183141</td>\n",
       "      <td>0.026877</td>\n",
       "      <td>0.229526</td>\n",
       "      <td>0.256404</td>\n",
       "      <td>14.820497</td>\n",
       "      <td>14.825871</td>\n",
       "      <td>0.000044</td>\n",
       "    </tr>\n",
       "    <tr>\n",
       "      <th>1</th>\n",
       "      <td>32780000001722</td>\n",
       "      <td>32</td>\n",
       "      <td>270.601058</td>\n",
       "      <td>-30.797561</td>\n",
       "      <td></td>\n",
       "      <td></td>\n",
       "      <td>0.2815</td>\n",
       "      <td>1.0</td>\n",
       "      <td>0.250000</td>\n",
       "      <td>0.0</td>\n",
       "      <td>...</td>\n",
       "      <td>0.714901</td>\n",
       "      <td>14.020039</td>\n",
       "      <td>13.975850</td>\n",
       "      <td>0.344830</td>\n",
       "      <td>0.136610</td>\n",
       "      <td>0.580695</td>\n",
       "      <td>0.717305</td>\n",
       "      <td>14.243584</td>\n",
       "      <td>14.253669</td>\n",
       "      <td>5.275137</td>\n",
       "    </tr>\n",
       "    <tr>\n",
       "      <th>2</th>\n",
       "      <td>32780000001725</td>\n",
       "      <td>31</td>\n",
       "      <td>270.586525</td>\n",
       "      <td>-30.790697</td>\n",
       "      <td></td>\n",
       "      <td></td>\n",
       "      <td>0.7770</td>\n",
       "      <td>1.0</td>\n",
       "      <td>0.225806</td>\n",
       "      <td>0.0</td>\n",
       "      <td>...</td>\n",
       "      <td>0.737901</td>\n",
       "      <td>12.123443</td>\n",
       "      <td>12.090208</td>\n",
       "      <td>0.228780</td>\n",
       "      <td>0.187609</td>\n",
       "      <td>0.552696</td>\n",
       "      <td>0.740305</td>\n",
       "      <td>12.351745</td>\n",
       "      <td>12.358436</td>\n",
       "      <td>3.785030</td>\n",
       "    </tr>\n",
       "    <tr>\n",
       "      <th>3</th>\n",
       "      <td>32780000001764</td>\n",
       "      <td>35</td>\n",
       "      <td>270.533529</td>\n",
       "      <td>-30.764936</td>\n",
       "      <td></td>\n",
       "      <td></td>\n",
       "      <td>0.6025</td>\n",
       "      <td>1.0</td>\n",
       "      <td>0.200000</td>\n",
       "      <td>0.0</td>\n",
       "      <td>...</td>\n",
       "      <td>0.708924</td>\n",
       "      <td>12.578053</td>\n",
       "      <td>12.528972</td>\n",
       "      <td>0.398169</td>\n",
       "      <td>0.114875</td>\n",
       "      <td>0.596295</td>\n",
       "      <td>0.711170</td>\n",
       "      <td>12.798067</td>\n",
       "      <td>12.809809</td>\n",
       "      <td>6.580914</td>\n",
       "    </tr>\n",
       "    <tr>\n",
       "      <th>4</th>\n",
       "      <td>32780000001766</td>\n",
       "      <td>49</td>\n",
       "      <td>270.575246</td>\n",
       "      <td>-30.785039</td>\n",
       "      <td></td>\n",
       "      <td></td>\n",
       "      <td>0.4850</td>\n",
       "      <td>1.0</td>\n",
       "      <td>0.224490</td>\n",
       "      <td>0.0</td>\n",
       "      <td>...</td>\n",
       "      <td>0.587902</td>\n",
       "      <td>13.324888</td>\n",
       "      <td>13.287657</td>\n",
       "      <td>0.285994</td>\n",
       "      <td>0.111611</td>\n",
       "      <td>0.478696</td>\n",
       "      <td>0.590306</td>\n",
       "      <td>13.522170</td>\n",
       "      <td>13.530534</td>\n",
       "      <td>5.746016</td>\n",
       "    </tr>\n",
       "    <tr>\n",
       "      <th>...</th>\n",
       "      <td>...</td>\n",
       "      <td>...</td>\n",
       "      <td>...</td>\n",
       "      <td>...</td>\n",
       "      <td>...</td>\n",
       "      <td>...</td>\n",
       "      <td>...</td>\n",
       "      <td>...</td>\n",
       "      <td>...</td>\n",
       "      <td>...</td>\n",
       "      <td>...</td>\n",
       "      <td>...</td>\n",
       "      <td>...</td>\n",
       "      <td>...</td>\n",
       "      <td>...</td>\n",
       "      <td>...</td>\n",
       "      <td>...</td>\n",
       "      <td>...</td>\n",
       "      <td>...</td>\n",
       "      <td>...</td>\n",
       "      <td>...</td>\n",
       "    </tr>\n",
       "    <tr>\n",
       "      <th>866878</th>\n",
       "      <td>32780000865946</td>\n",
       "      <td>56</td>\n",
       "      <td>270.961067</td>\n",
       "      <td>-29.417511</td>\n",
       "      <td></td>\n",
       "      <td></td>\n",
       "      <td>0.0230</td>\n",
       "      <td>1.0</td>\n",
       "      <td>0.357143</td>\n",
       "      <td>0.0</td>\n",
       "      <td>...</td>\n",
       "      <td>0.687494</td>\n",
       "      <td>12.213607</td>\n",
       "      <td>12.171067</td>\n",
       "      <td>0.347818</td>\n",
       "      <td>0.125109</td>\n",
       "      <td>0.563573</td>\n",
       "      <td>0.688682</td>\n",
       "      <td>12.398301</td>\n",
       "      <td>12.408567</td>\n",
       "      <td>2.734307</td>\n",
       "    </tr>\n",
       "    <tr>\n",
       "      <th>866879</th>\n",
       "      <td>32780000879797</td>\n",
       "      <td>56</td>\n",
       "      <td>270.962108</td>\n",
       "      <td>-29.392694</td>\n",
       "      <td></td>\n",
       "      <td></td>\n",
       "      <td>0.0260</td>\n",
       "      <td>1.0</td>\n",
       "      <td>0.375000</td>\n",
       "      <td>0.0</td>\n",
       "      <td>...</td>\n",
       "      <td>0.655494</td>\n",
       "      <td>12.358619</td>\n",
       "      <td>12.329497</td>\n",
       "      <td>0.212287</td>\n",
       "      <td>0.163109</td>\n",
       "      <td>0.493573</td>\n",
       "      <td>0.656682</td>\n",
       "      <td>12.536672</td>\n",
       "      <td>12.542938</td>\n",
       "      <td>6.877899</td>\n",
       "    </tr>\n",
       "    <tr>\n",
       "      <th>866880</th>\n",
       "      <td>32780000894698</td>\n",
       "      <td>57</td>\n",
       "      <td>270.987062</td>\n",
       "      <td>-29.378722</td>\n",
       "      <td></td>\n",
       "      <td></td>\n",
       "      <td>0.0310</td>\n",
       "      <td>1.0</td>\n",
       "      <td>0.350877</td>\n",
       "      <td>0.0</td>\n",
       "      <td>...</td>\n",
       "      <td>0.743494</td>\n",
       "      <td>10.892837</td>\n",
       "      <td>10.854592</td>\n",
       "      <td>0.297559</td>\n",
       "      <td>0.164110</td>\n",
       "      <td>0.580572</td>\n",
       "      <td>0.744682</td>\n",
       "      <td>11.089152</td>\n",
       "      <td>11.097934</td>\n",
       "      <td>5.883032</td>\n",
       "    </tr>\n",
       "    <tr>\n",
       "      <th>866881</th>\n",
       "      <td>32780000894881</td>\n",
       "      <td>55</td>\n",
       "      <td>272.064012</td>\n",
       "      <td>-29.893197</td>\n",
       "      <td></td>\n",
       "      <td></td>\n",
       "      <td>0.0285</td>\n",
       "      <td>1.0</td>\n",
       "      <td>0.381818</td>\n",
       "      <td>0.0</td>\n",
       "      <td>...</td>\n",
       "      <td>0.464515</td>\n",
       "      <td>13.531632</td>\n",
       "      <td>13.505489</td>\n",
       "      <td>0.203314</td>\n",
       "      <td>0.096373</td>\n",
       "      <td>0.369172</td>\n",
       "      <td>0.465545</td>\n",
       "      <td>13.667806</td>\n",
       "      <td>13.673903</td>\n",
       "      <td>5.310308</td>\n",
       "    </tr>\n",
       "    <tr>\n",
       "      <th>866882</th>\n",
       "      <td>32780000900244</td>\n",
       "      <td>56</td>\n",
       "      <td>272.123942</td>\n",
       "      <td>-29.912258</td>\n",
       "      <td></td>\n",
       "      <td></td>\n",
       "      <td>0.0280</td>\n",
       "      <td>1.0</td>\n",
       "      <td>0.267857</td>\n",
       "      <td>0.0</td>\n",
       "      <td>...</td>\n",
       "      <td>0.706600</td>\n",
       "      <td>12.044150</td>\n",
       "      <td>12.008327</td>\n",
       "      <td>0.273388</td>\n",
       "      <td>0.158705</td>\n",
       "      <td>0.549095</td>\n",
       "      <td>0.707800</td>\n",
       "      <td>12.229126</td>\n",
       "      <td>12.236734</td>\n",
       "      <td>0.922049</td>\n",
       "    </tr>\n",
       "  </tbody>\n",
       "</table>\n",
       "<p>866883 rows × 73 columns</p>\n",
       "</div>"
      ],
      "text/plain": [
       "                    id  cnt        ra_k      dec_k vs_type vs_catalog  \\\n",
       "0       32780000001647   33  270.675437 -30.833556                      \n",
       "1       32780000001722   32  270.601058 -30.797561                      \n",
       "2       32780000001725   31  270.586525 -30.790697                      \n",
       "3       32780000001764   35  270.533529 -30.764936                      \n",
       "4       32780000001766   49  270.575246 -30.785039                      \n",
       "...                ...  ...         ...        ...     ...        ...   \n",
       "866878  32780000865946   56  270.961067 -29.417511                      \n",
       "866879  32780000879797   56  270.962108 -29.392694                      \n",
       "866880  32780000894698   57  270.987062 -29.378722                      \n",
       "866881  32780000894881   55  272.064012 -29.893197                      \n",
       "866882  32780000900244   56  272.123942 -29.912258                      \n",
       "\n",
       "        Amplitude  Autocor_length  Beyond1Std  Con  ...  c89_jk_color  \\\n",
       "0          0.4205             1.0    0.303030  0.0  ...      0.254668   \n",
       "1          0.2815             1.0    0.250000  0.0  ...      0.714901   \n",
       "2          0.7770             1.0    0.225806  0.0  ...      0.737901   \n",
       "3          0.6025             1.0    0.200000  0.0  ...      0.708924   \n",
       "4          0.4850             1.0    0.224490  0.0  ...      0.587902   \n",
       "...           ...             ...         ...  ...  ...           ...   \n",
       "866878     0.0230             1.0    0.357143  0.0  ...      0.687494   \n",
       "866879     0.0260             1.0    0.375000  0.0  ...      0.655494   \n",
       "866880     0.0310             1.0    0.350877  0.0  ...      0.743494   \n",
       "866881     0.0285             1.0    0.381818  0.0  ...      0.464515   \n",
       "866882     0.0280             1.0    0.267857  0.0  ...      0.706600   \n",
       "\n",
       "           c89_m2     c89_m4    n09_c3  n09_hk_color  n09_jh_color  \\\n",
       "0       14.690558  14.666523  0.183141      0.026877      0.229526   \n",
       "1       14.020039  13.975850  0.344830      0.136610      0.580695   \n",
       "2       12.123443  12.090208  0.228780      0.187609      0.552696   \n",
       "3       12.578053  12.528972  0.398169      0.114875      0.596295   \n",
       "4       13.324888  13.287657  0.285994      0.111611      0.478696   \n",
       "...           ...        ...       ...           ...           ...   \n",
       "866878  12.213607  12.171067  0.347818      0.125109      0.563573   \n",
       "866879  12.358619  12.329497  0.212287      0.163109      0.493573   \n",
       "866880  10.892837  10.854592  0.297559      0.164110      0.580572   \n",
       "866881  13.531632  13.505489  0.203314      0.096373      0.369172   \n",
       "866882  12.044150  12.008327  0.273388      0.158705      0.549095   \n",
       "\n",
       "        n09_jk_color     n09_m2     n09_m4      ppmb  \n",
       "0           0.256404  14.820497  14.825871  0.000044  \n",
       "1           0.717305  14.243584  14.253669  5.275137  \n",
       "2           0.740305  12.351745  12.358436  3.785030  \n",
       "3           0.711170  12.798067  12.809809  6.580914  \n",
       "4           0.590306  13.522170  13.530534  5.746016  \n",
       "...              ...        ...        ...       ...  \n",
       "866878      0.688682  12.398301  12.408567  2.734307  \n",
       "866879      0.656682  12.536672  12.542938  6.877899  \n",
       "866880      0.744682  11.089152  11.097934  5.883032  \n",
       "866881      0.465545  13.667806  13.673903  5.310308  \n",
       "866882      0.707800  12.229126  12.236734  0.922049  \n",
       "\n",
       "[866883 rows x 73 columns]"
      ]
     },
     "execution_count": 6,
     "metadata": {},
     "output_type": "execute_result"
    }
   ],
   "source": [
    "# the first time this can be slow\n",
    "df = client.get_catalog(\"b278\", \"features\")\n",
    "df"
   ]
  },
  {
   "cell_type": "markdown",
   "metadata": {},
   "source": [
    "Well we have a lot of imformation to play here. Let's check if we have some multiple types of sources"
   ]
  },
  {
   "cell_type": "code",
   "execution_count": 7,
   "metadata": {},
   "outputs": [
    {
     "data": {
      "text/plain": [
       "vs_type\n",
       "               857450\n",
       "BLAP                1\n",
       "CV-DN               5\n",
       "Cep-1               1\n",
       "Cep-F               1\n",
       "ECL-C             729\n",
       "ECL-ELL           486\n",
       "ECL-NC           3246\n",
       "LPV-Mira          104\n",
       "LPV-OSARG        3820\n",
       "LPV-SRV           592\n",
       "RRLyr-RRab        289\n",
       "RRLyr-RRc         145\n",
       "RRLyr-RRd           3\n",
       "SP_ECL-C            1\n",
       "SP_ECL-NC           1\n",
       "T2Cep-BLHer         6\n",
       "T2Cep-RVTau         2\n",
       "T2Cep-WVir          1\n",
       "Name: id, dtype: int64"
      ]
     },
     "execution_count": 7,
     "metadata": {},
     "output_type": "execute_result"
    }
   ],
   "source": [
    "df.groupby(\"vs_type\").id.count()"
   ]
  },
  {
   "cell_type": "markdown",
   "metadata": {},
   "source": [
    "Well 41 RRab stars (and more than 334K of unknow sources)"
   ]
  },
  {
   "cell_type": "markdown",
   "metadata": {},
   "source": [
    "Well we have a lot to use here, lets make some plots.\n",
    "\n",
    "Form now on, yo simple have a big pandas dataframe to manipulate.\n",
    "\n",
    "All the methods of `carpyncho.Carpyncho` client are well documented and you \n",
    "can acces it whit the '?' command in Jupyter"
   ]
  },
  {
   "cell_type": "code",
   "execution_count": 8,
   "metadata": {},
   "outputs": [
    {
     "name": "stdout",
     "output_type": "stream",
     "text": [
      "\u001b[0;31mSignature:\u001b[0m \u001b[0mclient\u001b[0m\u001b[0;34m.\u001b[0m\u001b[0mget_catalog\u001b[0m\u001b[0;34m(\u001b[0m\u001b[0mtile\u001b[0m\u001b[0;34m,\u001b[0m \u001b[0mcatalog\u001b[0m\u001b[0;34m,\u001b[0m \u001b[0mforce\u001b[0m\u001b[0;34m=\u001b[0m\u001b[0;32mFalse\u001b[0m\u001b[0;34m)\u001b[0m\u001b[0;34m\u001b[0m\u001b[0;34m\u001b[0m\u001b[0m\n",
      "\u001b[0;31mDocstring:\u001b[0m\n",
      "Retrieve a catalog from the carpyncho dataset.\n",
      "\n",
      "Parameters\n",
      "----------\n",
      "tile: str\n",
      "    The name of the tile.\n",
      "catalog:\n",
      "    The name of the catalog.\n",
      "force: bool (default=False)\n",
      "    If its True, the cached version of the catalog is ignored and\n",
      "    redownloaded. Try to always set force to False.\n",
      "\n",
      "Returns\n",
      "-------\n",
      "pandas.DataFrame:\n",
      "    The columns of the DataFrame changes between the different catalog.\n",
      "\n",
      "Raises\n",
      "------\n",
      "ValueError:\n",
      "    If the tile or the catalog is not found.\n",
      "IOError:\n",
      "    If the checksum not match.\n",
      "\u001b[0;31mFile:\u001b[0m      ~/proyectos/carpyncho-py/src/carpyncho.py\n",
      "\u001b[0;31mType:\u001b[0m      method\n"
     ]
    }
   ],
   "source": [
    "client.get_catalog?"
   ]
  },
  {
   "cell_type": "code",
   "execution_count": 9,
   "metadata": {},
   "outputs": [
    {
     "data": {
      "text/plain": [
       "datetime.datetime(2022, 6, 13, 0, 1, 52, 183122)"
      ]
     },
     "execution_count": 9,
     "metadata": {},
     "output_type": "execute_result"
    }
   ],
   "source": [
    "import datetime as dt\n",
    "dt.datetime.now()"
   ]
  }
 ],
 "metadata": {
  "interpreter": {
   "hash": "b0327d9ac6e86e77873c3ed3efcda8f48f36be897d9dac5b7e9df4fe6b95d9ba"
  },
  "kernelspec": {
   "display_name": "Python 3.9.7 ('carpyncho-py')",
   "language": "python",
   "name": "python3"
  },
  "language_info": {
   "codemirror_mode": {
    "name": "ipython",
    "version": 3
   },
   "file_extension": ".py",
   "mimetype": "text/x-python",
   "name": "python",
   "nbconvert_exporter": "python",
   "pygments_lexer": "ipython3",
   "version": "3.9.7"
  }
 },
 "nbformat": 4,
 "nbformat_minor": 4
}
